{
 "cells": [
  {
   "cell_type": "code",
   "execution_count": 5,
   "id": "c828093b",
   "metadata": {},
   "outputs": [
    {
     "name": "stdout",
     "output_type": "stream",
     "text": [
      "\n",
      "  There is a binary version available but the source version is later:\n",
      "      binary source needs_compilation\n",
      "readr  2.1.3  2.1.4              TRUE\n",
      "\n",
      "  Binaries will be installed\n",
      "package 'readr' successfully unpacked and MD5 sums checked\n"
     ]
    },
    {
     "name": "stderr",
     "output_type": "stream",
     "text": [
      "Warning message:\n",
      "\"cannot remove prior installation of package 'readr'\"\n",
      "Warning message in file.copy(savedcopy, lib, recursive = TRUE):\n",
      "\"problema al copiar C:\\Users\\manug\\anaconda3\\envs\\renv\\Lib\\R\\library\\00LOCK\\readr\\libs\\x64\\readr.dll  a C:\\Users\\manug\\anaconda3\\envs\\renv\\Lib\\R\\library\\readr\\libs\\x64\\readr.dll: Permission denied\"\n",
      "Warning message:\n",
      "\"restored 'readr'\"\n"
     ]
    },
    {
     "name": "stdout",
     "output_type": "stream",
     "text": [
      "\n",
      "The downloaded binary packages are in\n",
      "\tC:\\Users\\manug\\AppData\\Local\\Temp\\RtmpicmY8u\\downloaded_packages\n"
     ]
    }
   ],
   "source": [
    "install.packages('readr')"
   ]
  },
  {
   "cell_type": "code",
   "execution_count": 6,
   "id": "78c2349c",
   "metadata": {},
   "outputs": [
    {
     "name": "stderr",
     "output_type": "stream",
     "text": [
      "\u001b[1mRows: \u001b[22m\u001b[34m36275\u001b[39m \u001b[1mColumns: \u001b[22m\u001b[34m19\u001b[39m\n",
      "\u001b[36m--\u001b[39m \u001b[1mColumn specification\u001b[22m \u001b[36m------------------------------------------------------------------------------------------------\u001b[39m\n",
      "\u001b[1mDelimiter:\u001b[22m \",\"\n",
      "\u001b[31mchr\u001b[39m  (5): Booking_ID, type_of_meal_plan, room_type_reserved, market_segment_...\n",
      "\u001b[32mdbl\u001b[39m (14): no_of_adults, no_of_children, no_of_weekend_nights, no_of_week_nig...\n",
      "\n",
      "\u001b[36mi\u001b[39m Use `spec()` to retrieve the full column specification for this data.\n",
      "\u001b[36mi\u001b[39m Specify the column types or set `show_col_types = FALSE` to quiet this message.\n"
     ]
    }
   ],
   "source": [
    "library(readr)\n",
    "ruta_excel = \"C:\\\\Users\\\\manug\\\\OneDrive\\\\Escritorio\\\\Mates\\\\CUARTO\\\\SEGUNDO CUATRI\\\\DATOS 2\\\\AAII_2022-main\\\\trabajo_tema1\\\\hotel_reservations.csv\"\n",
    "gapminder = read_csv(ruta_excel)"
   ]
  },
  {
   "cell_type": "code",
   "execution_count": 7,
   "id": "78d7b657",
   "metadata": {},
   "outputs": [
    {
     "data": {
      "text/html": [
       "<table class=\"dataframe\">\n",
       "<caption>A tibble: 6 × 19</caption>\n",
       "<thead>\n",
       "\t<tr><th scope=col>Booking_ID</th><th scope=col>no_of_adults</th><th scope=col>no_of_children</th><th scope=col>no_of_weekend_nights</th><th scope=col>no_of_week_nights</th><th scope=col>type_of_meal_plan</th><th scope=col>required_car_parking_space</th><th scope=col>room_type_reserved</th><th scope=col>lead_time</th><th scope=col>arrival_year</th><th scope=col>arrival_month</th><th scope=col>arrival_date</th><th scope=col>market_segment_type</th><th scope=col>repeated_guest</th><th scope=col>no_of_previous_cancellations</th><th scope=col>no_of_previous_bookings_not_canceled</th><th scope=col>avg_price_per_room</th><th scope=col>no_of_special_requests</th><th scope=col>booking_status</th></tr>\n",
       "\t<tr><th scope=col>&lt;chr&gt;</th><th scope=col>&lt;dbl&gt;</th><th scope=col>&lt;dbl&gt;</th><th scope=col>&lt;dbl&gt;</th><th scope=col>&lt;dbl&gt;</th><th scope=col>&lt;chr&gt;</th><th scope=col>&lt;dbl&gt;</th><th scope=col>&lt;chr&gt;</th><th scope=col>&lt;dbl&gt;</th><th scope=col>&lt;dbl&gt;</th><th scope=col>&lt;dbl&gt;</th><th scope=col>&lt;dbl&gt;</th><th scope=col>&lt;chr&gt;</th><th scope=col>&lt;dbl&gt;</th><th scope=col>&lt;dbl&gt;</th><th scope=col>&lt;dbl&gt;</th><th scope=col>&lt;dbl&gt;</th><th scope=col>&lt;dbl&gt;</th><th scope=col>&lt;chr&gt;</th></tr>\n",
       "</thead>\n",
       "<tbody>\n",
       "\t<tr><td>INN00001</td><td>2</td><td>0</td><td>1</td><td>2</td><td>Meal Plan 1 </td><td>0</td><td>Room_Type 1</td><td>224</td><td>2017</td><td>10</td><td> 2</td><td>Offline</td><td>0</td><td>0</td><td>0</td><td> 65.00</td><td>0</td><td>Not_Canceled</td></tr>\n",
       "\t<tr><td>INN00002</td><td>2</td><td>0</td><td>2</td><td>3</td><td>Not Selected</td><td>0</td><td>Room_Type 1</td><td>  5</td><td>2018</td><td>11</td><td> 6</td><td>Online </td><td>0</td><td>0</td><td>0</td><td>106.68</td><td>1</td><td>Not_Canceled</td></tr>\n",
       "\t<tr><td>INN00003</td><td>1</td><td>0</td><td>2</td><td>1</td><td>Meal Plan 1 </td><td>0</td><td>Room_Type 1</td><td>  1</td><td>2018</td><td> 2</td><td>28</td><td>Online </td><td>0</td><td>0</td><td>0</td><td> 60.00</td><td>0</td><td>Canceled    </td></tr>\n",
       "\t<tr><td>INN00004</td><td>2</td><td>0</td><td>0</td><td>2</td><td>Meal Plan 1 </td><td>0</td><td>Room_Type 1</td><td>211</td><td>2018</td><td> 5</td><td>20</td><td>Online </td><td>0</td><td>0</td><td>0</td><td>100.00</td><td>0</td><td>Canceled    </td></tr>\n",
       "\t<tr><td>INN00005</td><td>2</td><td>0</td><td>1</td><td>1</td><td>Not Selected</td><td>0</td><td>Room_Type 1</td><td> 48</td><td>2018</td><td> 4</td><td>11</td><td>Online </td><td>0</td><td>0</td><td>0</td><td> 94.50</td><td>0</td><td>Canceled    </td></tr>\n",
       "\t<tr><td>INN00006</td><td>2</td><td>0</td><td>0</td><td>2</td><td>Meal Plan 2 </td><td>0</td><td>Room_Type 1</td><td>346</td><td>2018</td><td> 9</td><td>13</td><td>Online </td><td>0</td><td>0</td><td>0</td><td>115.00</td><td>1</td><td>Canceled    </td></tr>\n",
       "</tbody>\n",
       "</table>\n"
      ],
      "text/latex": [
       "A tibble: 6 × 19\n",
       "\\begin{tabular}{lllllllllllllllllll}\n",
       " Booking\\_ID & no\\_of\\_adults & no\\_of\\_children & no\\_of\\_weekend\\_nights & no\\_of\\_week\\_nights & type\\_of\\_meal\\_plan & required\\_car\\_parking\\_space & room\\_type\\_reserved & lead\\_time & arrival\\_year & arrival\\_month & arrival\\_date & market\\_segment\\_type & repeated\\_guest & no\\_of\\_previous\\_cancellations & no\\_of\\_previous\\_bookings\\_not\\_canceled & avg\\_price\\_per\\_room & no\\_of\\_special\\_requests & booking\\_status\\\\\n",
       " <chr> & <dbl> & <dbl> & <dbl> & <dbl> & <chr> & <dbl> & <chr> & <dbl> & <dbl> & <dbl> & <dbl> & <chr> & <dbl> & <dbl> & <dbl> & <dbl> & <dbl> & <chr>\\\\\n",
       "\\hline\n",
       "\t INN00001 & 2 & 0 & 1 & 2 & Meal Plan 1  & 0 & Room\\_Type 1 & 224 & 2017 & 10 &  2 & Offline & 0 & 0 & 0 &  65.00 & 0 & Not\\_Canceled\\\\\n",
       "\t INN00002 & 2 & 0 & 2 & 3 & Not Selected & 0 & Room\\_Type 1 &   5 & 2018 & 11 &  6 & Online  & 0 & 0 & 0 & 106.68 & 1 & Not\\_Canceled\\\\\n",
       "\t INN00003 & 1 & 0 & 2 & 1 & Meal Plan 1  & 0 & Room\\_Type 1 &   1 & 2018 &  2 & 28 & Online  & 0 & 0 & 0 &  60.00 & 0 & Canceled    \\\\\n",
       "\t INN00004 & 2 & 0 & 0 & 2 & Meal Plan 1  & 0 & Room\\_Type 1 & 211 & 2018 &  5 & 20 & Online  & 0 & 0 & 0 & 100.00 & 0 & Canceled    \\\\\n",
       "\t INN00005 & 2 & 0 & 1 & 1 & Not Selected & 0 & Room\\_Type 1 &  48 & 2018 &  4 & 11 & Online  & 0 & 0 & 0 &  94.50 & 0 & Canceled    \\\\\n",
       "\t INN00006 & 2 & 0 & 0 & 2 & Meal Plan 2  & 0 & Room\\_Type 1 & 346 & 2018 &  9 & 13 & Online  & 0 & 0 & 0 & 115.00 & 1 & Canceled    \\\\\n",
       "\\end{tabular}\n"
      ],
      "text/markdown": [
       "\n",
       "A tibble: 6 × 19\n",
       "\n",
       "| Booking_ID &lt;chr&gt; | no_of_adults &lt;dbl&gt; | no_of_children &lt;dbl&gt; | no_of_weekend_nights &lt;dbl&gt; | no_of_week_nights &lt;dbl&gt; | type_of_meal_plan &lt;chr&gt; | required_car_parking_space &lt;dbl&gt; | room_type_reserved &lt;chr&gt; | lead_time &lt;dbl&gt; | arrival_year &lt;dbl&gt; | arrival_month &lt;dbl&gt; | arrival_date &lt;dbl&gt; | market_segment_type &lt;chr&gt; | repeated_guest &lt;dbl&gt; | no_of_previous_cancellations &lt;dbl&gt; | no_of_previous_bookings_not_canceled &lt;dbl&gt; | avg_price_per_room &lt;dbl&gt; | no_of_special_requests &lt;dbl&gt; | booking_status &lt;chr&gt; |\n",
       "|---|---|---|---|---|---|---|---|---|---|---|---|---|---|---|---|---|---|---|\n",
       "| INN00001 | 2 | 0 | 1 | 2 | Meal Plan 1  | 0 | Room_Type 1 | 224 | 2017 | 10 |  2 | Offline | 0 | 0 | 0 |  65.00 | 0 | Not_Canceled |\n",
       "| INN00002 | 2 | 0 | 2 | 3 | Not Selected | 0 | Room_Type 1 |   5 | 2018 | 11 |  6 | Online  | 0 | 0 | 0 | 106.68 | 1 | Not_Canceled |\n",
       "| INN00003 | 1 | 0 | 2 | 1 | Meal Plan 1  | 0 | Room_Type 1 |   1 | 2018 |  2 | 28 | Online  | 0 | 0 | 0 |  60.00 | 0 | Canceled     |\n",
       "| INN00004 | 2 | 0 | 0 | 2 | Meal Plan 1  | 0 | Room_Type 1 | 211 | 2018 |  5 | 20 | Online  | 0 | 0 | 0 | 100.00 | 0 | Canceled     |\n",
       "| INN00005 | 2 | 0 | 1 | 1 | Not Selected | 0 | Room_Type 1 |  48 | 2018 |  4 | 11 | Online  | 0 | 0 | 0 |  94.50 | 0 | Canceled     |\n",
       "| INN00006 | 2 | 0 | 0 | 2 | Meal Plan 2  | 0 | Room_Type 1 | 346 | 2018 |  9 | 13 | Online  | 0 | 0 | 0 | 115.00 | 1 | Canceled     |\n",
       "\n"
      ],
      "text/plain": [
       "  Booking_ID no_of_adults no_of_children no_of_weekend_nights no_of_week_nights\n",
       "1 INN00001   2            0              1                    2                \n",
       "2 INN00002   2            0              2                    3                \n",
       "3 INN00003   1            0              2                    1                \n",
       "4 INN00004   2            0              0                    2                \n",
       "5 INN00005   2            0              1                    1                \n",
       "6 INN00006   2            0              0                    2                \n",
       "  type_of_meal_plan required_car_parking_space room_type_reserved lead_time\n",
       "1 Meal Plan 1       0                          Room_Type 1        224      \n",
       "2 Not Selected      0                          Room_Type 1          5      \n",
       "3 Meal Plan 1       0                          Room_Type 1          1      \n",
       "4 Meal Plan 1       0                          Room_Type 1        211      \n",
       "5 Not Selected      0                          Room_Type 1         48      \n",
       "6 Meal Plan 2       0                          Room_Type 1        346      \n",
       "  arrival_year arrival_month arrival_date market_segment_type repeated_guest\n",
       "1 2017         10             2           Offline             0             \n",
       "2 2018         11             6           Online              0             \n",
       "3 2018          2            28           Online              0             \n",
       "4 2018          5            20           Online              0             \n",
       "5 2018          4            11           Online              0             \n",
       "6 2018          9            13           Online              0             \n",
       "  no_of_previous_cancellations no_of_previous_bookings_not_canceled\n",
       "1 0                            0                                   \n",
       "2 0                            0                                   \n",
       "3 0                            0                                   \n",
       "4 0                            0                                   \n",
       "5 0                            0                                   \n",
       "6 0                            0                                   \n",
       "  avg_price_per_room no_of_special_requests booking_status\n",
       "1  65.00             0                      Not_Canceled  \n",
       "2 106.68             1                      Not_Canceled  \n",
       "3  60.00             0                      Canceled      \n",
       "4 100.00             0                      Canceled      \n",
       "5  94.50             0                      Canceled      \n",
       "6 115.00             1                      Canceled      "
      ]
     },
     "metadata": {},
     "output_type": "display_data"
    }
   ],
   "source": [
    "head(gapminder)"
   ]
  },
  {
   "cell_type": "code",
   "execution_count": 8,
   "id": "8be2e720",
   "metadata": {},
   "outputs": [
    {
     "data": {
      "text/html": [
       "<table class=\"dataframe\">\n",
       "<caption>A tibble: 6 × 19</caption>\n",
       "<thead>\n",
       "\t<tr><th scope=col>Booking_ID</th><th scope=col>no_of_adults</th><th scope=col>no_of_children</th><th scope=col>no_of_weekend_nights</th><th scope=col>no_of_week_nights</th><th scope=col>type_of_meal_plan</th><th scope=col>required_car_parking_space</th><th scope=col>room_type_reserved</th><th scope=col>lead_time</th><th scope=col>arrival_year</th><th scope=col>arrival_month</th><th scope=col>arrival_date</th><th scope=col>market_segment_type</th><th scope=col>repeated_guest</th><th scope=col>no_of_previous_cancellations</th><th scope=col>no_of_previous_bookings_not_canceled</th><th scope=col>avg_price_per_room</th><th scope=col>no_of_special_requests</th><th scope=col>booking_status</th></tr>\n",
       "\t<tr><th scope=col>&lt;chr&gt;</th><th scope=col>&lt;dbl&gt;</th><th scope=col>&lt;dbl&gt;</th><th scope=col>&lt;dbl&gt;</th><th scope=col>&lt;dbl&gt;</th><th scope=col>&lt;chr&gt;</th><th scope=col>&lt;dbl&gt;</th><th scope=col>&lt;chr&gt;</th><th scope=col>&lt;dbl&gt;</th><th scope=col>&lt;dbl&gt;</th><th scope=col>&lt;dbl&gt;</th><th scope=col>&lt;dbl&gt;</th><th scope=col>&lt;chr&gt;</th><th scope=col>&lt;dbl&gt;</th><th scope=col>&lt;dbl&gt;</th><th scope=col>&lt;dbl&gt;</th><th scope=col>&lt;dbl&gt;</th><th scope=col>&lt;dbl&gt;</th><th scope=col>&lt;chr&gt;</th></tr>\n",
       "</thead>\n",
       "<tbody>\n",
       "\t<tr><td>INN36270</td><td>2</td><td>2</td><td>0</td><td>1</td><td>Meal Plan 1 </td><td>0</td><td>Room_Type 6</td><td>  0</td><td>2018</td><td>10</td><td> 6</td><td>Online </td><td>0</td><td>0</td><td>0</td><td>216.00</td><td>0</td><td>Canceled    </td></tr>\n",
       "\t<tr><td>INN36271</td><td>3</td><td>0</td><td>2</td><td>6</td><td>Meal Plan 1 </td><td>0</td><td>Room_Type 4</td><td> 85</td><td>2018</td><td> 8</td><td> 3</td><td>Online </td><td>0</td><td>0</td><td>0</td><td>167.80</td><td>1</td><td>Not_Canceled</td></tr>\n",
       "\t<tr><td>INN36272</td><td>2</td><td>0</td><td>1</td><td>3</td><td>Meal Plan 1 </td><td>0</td><td>Room_Type 1</td><td>228</td><td>2018</td><td>10</td><td>17</td><td>Online </td><td>0</td><td>0</td><td>0</td><td> 90.95</td><td>2</td><td>Canceled    </td></tr>\n",
       "\t<tr><td>INN36273</td><td>2</td><td>0</td><td>2</td><td>6</td><td>Meal Plan 1 </td><td>0</td><td>Room_Type 1</td><td>148</td><td>2018</td><td> 7</td><td> 1</td><td>Online </td><td>0</td><td>0</td><td>0</td><td> 98.39</td><td>2</td><td>Not_Canceled</td></tr>\n",
       "\t<tr><td>INN36274</td><td>2</td><td>0</td><td>0</td><td>3</td><td>Not Selected</td><td>0</td><td>Room_Type 1</td><td> 63</td><td>2018</td><td> 4</td><td>21</td><td>Online </td><td>0</td><td>0</td><td>0</td><td> 94.50</td><td>0</td><td>Canceled    </td></tr>\n",
       "\t<tr><td>INN36275</td><td>2</td><td>0</td><td>1</td><td>2</td><td>Meal Plan 1 </td><td>0</td><td>Room_Type 1</td><td>207</td><td>2018</td><td>12</td><td>30</td><td>Offline</td><td>0</td><td>0</td><td>0</td><td>161.67</td><td>0</td><td>Not_Canceled</td></tr>\n",
       "</tbody>\n",
       "</table>\n"
      ],
      "text/latex": [
       "A tibble: 6 × 19\n",
       "\\begin{tabular}{lllllllllllllllllll}\n",
       " Booking\\_ID & no\\_of\\_adults & no\\_of\\_children & no\\_of\\_weekend\\_nights & no\\_of\\_week\\_nights & type\\_of\\_meal\\_plan & required\\_car\\_parking\\_space & room\\_type\\_reserved & lead\\_time & arrival\\_year & arrival\\_month & arrival\\_date & market\\_segment\\_type & repeated\\_guest & no\\_of\\_previous\\_cancellations & no\\_of\\_previous\\_bookings\\_not\\_canceled & avg\\_price\\_per\\_room & no\\_of\\_special\\_requests & booking\\_status\\\\\n",
       " <chr> & <dbl> & <dbl> & <dbl> & <dbl> & <chr> & <dbl> & <chr> & <dbl> & <dbl> & <dbl> & <dbl> & <chr> & <dbl> & <dbl> & <dbl> & <dbl> & <dbl> & <chr>\\\\\n",
       "\\hline\n",
       "\t INN36270 & 2 & 2 & 0 & 1 & Meal Plan 1  & 0 & Room\\_Type 6 &   0 & 2018 & 10 &  6 & Online  & 0 & 0 & 0 & 216.00 & 0 & Canceled    \\\\\n",
       "\t INN36271 & 3 & 0 & 2 & 6 & Meal Plan 1  & 0 & Room\\_Type 4 &  85 & 2018 &  8 &  3 & Online  & 0 & 0 & 0 & 167.80 & 1 & Not\\_Canceled\\\\\n",
       "\t INN36272 & 2 & 0 & 1 & 3 & Meal Plan 1  & 0 & Room\\_Type 1 & 228 & 2018 & 10 & 17 & Online  & 0 & 0 & 0 &  90.95 & 2 & Canceled    \\\\\n",
       "\t INN36273 & 2 & 0 & 2 & 6 & Meal Plan 1  & 0 & Room\\_Type 1 & 148 & 2018 &  7 &  1 & Online  & 0 & 0 & 0 &  98.39 & 2 & Not\\_Canceled\\\\\n",
       "\t INN36274 & 2 & 0 & 0 & 3 & Not Selected & 0 & Room\\_Type 1 &  63 & 2018 &  4 & 21 & Online  & 0 & 0 & 0 &  94.50 & 0 & Canceled    \\\\\n",
       "\t INN36275 & 2 & 0 & 1 & 2 & Meal Plan 1  & 0 & Room\\_Type 1 & 207 & 2018 & 12 & 30 & Offline & 0 & 0 & 0 & 161.67 & 0 & Not\\_Canceled\\\\\n",
       "\\end{tabular}\n"
      ],
      "text/markdown": [
       "\n",
       "A tibble: 6 × 19\n",
       "\n",
       "| Booking_ID &lt;chr&gt; | no_of_adults &lt;dbl&gt; | no_of_children &lt;dbl&gt; | no_of_weekend_nights &lt;dbl&gt; | no_of_week_nights &lt;dbl&gt; | type_of_meal_plan &lt;chr&gt; | required_car_parking_space &lt;dbl&gt; | room_type_reserved &lt;chr&gt; | lead_time &lt;dbl&gt; | arrival_year &lt;dbl&gt; | arrival_month &lt;dbl&gt; | arrival_date &lt;dbl&gt; | market_segment_type &lt;chr&gt; | repeated_guest &lt;dbl&gt; | no_of_previous_cancellations &lt;dbl&gt; | no_of_previous_bookings_not_canceled &lt;dbl&gt; | avg_price_per_room &lt;dbl&gt; | no_of_special_requests &lt;dbl&gt; | booking_status &lt;chr&gt; |\n",
       "|---|---|---|---|---|---|---|---|---|---|---|---|---|---|---|---|---|---|---|\n",
       "| INN36270 | 2 | 2 | 0 | 1 | Meal Plan 1  | 0 | Room_Type 6 |   0 | 2018 | 10 |  6 | Online  | 0 | 0 | 0 | 216.00 | 0 | Canceled     |\n",
       "| INN36271 | 3 | 0 | 2 | 6 | Meal Plan 1  | 0 | Room_Type 4 |  85 | 2018 |  8 |  3 | Online  | 0 | 0 | 0 | 167.80 | 1 | Not_Canceled |\n",
       "| INN36272 | 2 | 0 | 1 | 3 | Meal Plan 1  | 0 | Room_Type 1 | 228 | 2018 | 10 | 17 | Online  | 0 | 0 | 0 |  90.95 | 2 | Canceled     |\n",
       "| INN36273 | 2 | 0 | 2 | 6 | Meal Plan 1  | 0 | Room_Type 1 | 148 | 2018 |  7 |  1 | Online  | 0 | 0 | 0 |  98.39 | 2 | Not_Canceled |\n",
       "| INN36274 | 2 | 0 | 0 | 3 | Not Selected | 0 | Room_Type 1 |  63 | 2018 |  4 | 21 | Online  | 0 | 0 | 0 |  94.50 | 0 | Canceled     |\n",
       "| INN36275 | 2 | 0 | 1 | 2 | Meal Plan 1  | 0 | Room_Type 1 | 207 | 2018 | 12 | 30 | Offline | 0 | 0 | 0 | 161.67 | 0 | Not_Canceled |\n",
       "\n"
      ],
      "text/plain": [
       "  Booking_ID no_of_adults no_of_children no_of_weekend_nights no_of_week_nights\n",
       "1 INN36270   2            2              0                    1                \n",
       "2 INN36271   3            0              2                    6                \n",
       "3 INN36272   2            0              1                    3                \n",
       "4 INN36273   2            0              2                    6                \n",
       "5 INN36274   2            0              0                    3                \n",
       "6 INN36275   2            0              1                    2                \n",
       "  type_of_meal_plan required_car_parking_space room_type_reserved lead_time\n",
       "1 Meal Plan 1       0                          Room_Type 6          0      \n",
       "2 Meal Plan 1       0                          Room_Type 4         85      \n",
       "3 Meal Plan 1       0                          Room_Type 1        228      \n",
       "4 Meal Plan 1       0                          Room_Type 1        148      \n",
       "5 Not Selected      0                          Room_Type 1         63      \n",
       "6 Meal Plan 1       0                          Room_Type 1        207      \n",
       "  arrival_year arrival_month arrival_date market_segment_type repeated_guest\n",
       "1 2018         10             6           Online              0             \n",
       "2 2018          8             3           Online              0             \n",
       "3 2018         10            17           Online              0             \n",
       "4 2018          7             1           Online              0             \n",
       "5 2018          4            21           Online              0             \n",
       "6 2018         12            30           Offline             0             \n",
       "  no_of_previous_cancellations no_of_previous_bookings_not_canceled\n",
       "1 0                            0                                   \n",
       "2 0                            0                                   \n",
       "3 0                            0                                   \n",
       "4 0                            0                                   \n",
       "5 0                            0                                   \n",
       "6 0                            0                                   \n",
       "  avg_price_per_room no_of_special_requests booking_status\n",
       "1 216.00             0                      Canceled      \n",
       "2 167.80             1                      Not_Canceled  \n",
       "3  90.95             2                      Canceled      \n",
       "4  98.39             2                      Not_Canceled  \n",
       "5  94.50             0                      Canceled      \n",
       "6 161.67             0                      Not_Canceled  "
      ]
     },
     "metadata": {},
     "output_type": "display_data"
    }
   ],
   "source": [
    "tail(gapminder)"
   ]
  },
  {
   "cell_type": "code",
   "execution_count": 9,
   "id": "66db35b1",
   "metadata": {},
   "outputs": [
    {
     "data": {
      "text/html": [
       "<style>\n",
       ".list-inline {list-style: none; margin:0; padding: 0}\n",
       ".list-inline>li {display: inline-block}\n",
       ".list-inline>li:not(:last-child)::after {content: \"\\00b7\"; padding: 0 .5ex}\n",
       "</style>\n",
       "<ol class=list-inline><li>'Booking_ID'</li><li>'no_of_adults'</li><li>'no_of_children'</li><li>'no_of_weekend_nights'</li><li>'no_of_week_nights'</li><li>'type_of_meal_plan'</li><li>'required_car_parking_space'</li><li>'room_type_reserved'</li><li>'lead_time'</li><li>'arrival_year'</li><li>'arrival_month'</li><li>'arrival_date'</li><li>'market_segment_type'</li><li>'repeated_guest'</li><li>'no_of_previous_cancellations'</li><li>'no_of_previous_bookings_not_canceled'</li><li>'avg_price_per_room'</li><li>'no_of_special_requests'</li><li>'booking_status'</li></ol>\n"
      ],
      "text/latex": [
       "\\begin{enumerate*}\n",
       "\\item 'Booking\\_ID'\n",
       "\\item 'no\\_of\\_adults'\n",
       "\\item 'no\\_of\\_children'\n",
       "\\item 'no\\_of\\_weekend\\_nights'\n",
       "\\item 'no\\_of\\_week\\_nights'\n",
       "\\item 'type\\_of\\_meal\\_plan'\n",
       "\\item 'required\\_car\\_parking\\_space'\n",
       "\\item 'room\\_type\\_reserved'\n",
       "\\item 'lead\\_time'\n",
       "\\item 'arrival\\_year'\n",
       "\\item 'arrival\\_month'\n",
       "\\item 'arrival\\_date'\n",
       "\\item 'market\\_segment\\_type'\n",
       "\\item 'repeated\\_guest'\n",
       "\\item 'no\\_of\\_previous\\_cancellations'\n",
       "\\item 'no\\_of\\_previous\\_bookings\\_not\\_canceled'\n",
       "\\item 'avg\\_price\\_per\\_room'\n",
       "\\item 'no\\_of\\_special\\_requests'\n",
       "\\item 'booking\\_status'\n",
       "\\end{enumerate*}\n"
      ],
      "text/markdown": [
       "1. 'Booking_ID'\n",
       "2. 'no_of_adults'\n",
       "3. 'no_of_children'\n",
       "4. 'no_of_weekend_nights'\n",
       "5. 'no_of_week_nights'\n",
       "6. 'type_of_meal_plan'\n",
       "7. 'required_car_parking_space'\n",
       "8. 'room_type_reserved'\n",
       "9. 'lead_time'\n",
       "10. 'arrival_year'\n",
       "11. 'arrival_month'\n",
       "12. 'arrival_date'\n",
       "13. 'market_segment_type'\n",
       "14. 'repeated_guest'\n",
       "15. 'no_of_previous_cancellations'\n",
       "16. 'no_of_previous_bookings_not_canceled'\n",
       "17. 'avg_price_per_room'\n",
       "18. 'no_of_special_requests'\n",
       "19. 'booking_status'\n",
       "\n",
       "\n"
      ],
      "text/plain": [
       " [1] \"Booking_ID\"                          \n",
       " [2] \"no_of_adults\"                        \n",
       " [3] \"no_of_children\"                      \n",
       " [4] \"no_of_weekend_nights\"                \n",
       " [5] \"no_of_week_nights\"                   \n",
       " [6] \"type_of_meal_plan\"                   \n",
       " [7] \"required_car_parking_space\"          \n",
       " [8] \"room_type_reserved\"                  \n",
       " [9] \"lead_time\"                           \n",
       "[10] \"arrival_year\"                        \n",
       "[11] \"arrival_month\"                       \n",
       "[12] \"arrival_date\"                        \n",
       "[13] \"market_segment_type\"                 \n",
       "[14] \"repeated_guest\"                      \n",
       "[15] \"no_of_previous_cancellations\"        \n",
       "[16] \"no_of_previous_bookings_not_canceled\"\n",
       "[17] \"avg_price_per_room\"                  \n",
       "[18] \"no_of_special_requests\"              \n",
       "[19] \"booking_status\"                      "
      ]
     },
     "metadata": {},
     "output_type": "display_data"
    }
   ],
   "source": [
    "names(gapminder)"
   ]
  },
  {
   "cell_type": "code",
   "execution_count": 9,
   "id": "9992c704",
   "metadata": {},
   "outputs": [
    {
     "data": {
      "text/plain": [
       "  Booking_ID         no_of_adults   no_of_children    no_of_weekend_nights\n",
       " Length:36275       Min.   :0.000   Min.   : 0.0000   Min.   :0.0000      \n",
       " Class :character   1st Qu.:2.000   1st Qu.: 0.0000   1st Qu.:0.0000      \n",
       " Mode  :character   Median :2.000   Median : 0.0000   Median :1.0000      \n",
       "                    Mean   :1.845   Mean   : 0.1053   Mean   :0.8107      \n",
       "                    3rd Qu.:2.000   3rd Qu.: 0.0000   3rd Qu.:2.0000      \n",
       "                    Max.   :4.000   Max.   :10.0000   Max.   :7.0000      \n",
       " no_of_week_nights type_of_meal_plan  required_car_parking_space\n",
       " Min.   : 0.000    Length:36275       Min.   :0.00000           \n",
       " 1st Qu.: 1.000    Class :character   1st Qu.:0.00000           \n",
       " Median : 2.000    Mode  :character   Median :0.00000           \n",
       " Mean   : 2.204                       Mean   :0.03099           \n",
       " 3rd Qu.: 3.000                       3rd Qu.:0.00000           \n",
       " Max.   :17.000                       Max.   :1.00000           \n",
       " room_type_reserved   lead_time       arrival_year  arrival_month   \n",
       " Length:36275       Min.   :  0.00   Min.   :2017   Min.   : 1.000  \n",
       " Class :character   1st Qu.: 17.00   1st Qu.:2018   1st Qu.: 5.000  \n",
       " Mode  :character   Median : 57.00   Median :2018   Median : 8.000  \n",
       "                    Mean   : 85.23   Mean   :2018   Mean   : 7.424  \n",
       "                    3rd Qu.:126.00   3rd Qu.:2018   3rd Qu.:10.000  \n",
       "                    Max.   :443.00   Max.   :2018   Max.   :12.000  \n",
       "  arrival_date  market_segment_type repeated_guest   \n",
       " Min.   : 1.0   Length:36275        Min.   :0.00000  \n",
       " 1st Qu.: 8.0   Class :character    1st Qu.:0.00000  \n",
       " Median :16.0   Mode  :character    Median :0.00000  \n",
       " Mean   :15.6                       Mean   :0.02564  \n",
       " 3rd Qu.:23.0                       3rd Qu.:0.00000  \n",
       " Max.   :31.0                       Max.   :1.00000  \n",
       " no_of_previous_cancellations no_of_previous_bookings_not_canceled\n",
       " Min.   : 0.00000             Min.   : 0.0000                     \n",
       " 1st Qu.: 0.00000             1st Qu.: 0.0000                     \n",
       " Median : 0.00000             Median : 0.0000                     \n",
       " Mean   : 0.02335             Mean   : 0.1534                     \n",
       " 3rd Qu.: 0.00000             3rd Qu.: 0.0000                     \n",
       " Max.   :13.00000             Max.   :58.0000                     \n",
       " avg_price_per_room no_of_special_requests booking_status    \n",
       " Min.   :  0.00     Min.   :0.0000         Length:36275      \n",
       " 1st Qu.: 80.30     1st Qu.:0.0000         Class :character  \n",
       " Median : 99.45     Median :0.0000         Mode  :character  \n",
       " Mean   :103.42     Mean   :0.6197                           \n",
       " 3rd Qu.:120.00     3rd Qu.:1.0000                           \n",
       " Max.   :540.00     Max.   :5.0000                           "
      ]
     },
     "metadata": {},
     "output_type": "display_data"
    }
   ],
   "source": [
    "summary(gapminder)"
   ]
  },
  {
   "cell_type": "code",
   "execution_count": 10,
   "id": "c1a2af7e",
   "metadata": {},
   "outputs": [
    {
     "data": {
      "image/png": "[encoded data removed]",
      "text/plain": [
       "Plot with title \"Histogram of gapminder$no_of_adults\""
      ]
     },
     "metadata": {
      "image/png": {
       "height": 420,
       "width": 420
      }
     },
     "output_type": "display_data"
    }
   ],
   "source": [
    "hist(gapminder$no_of_adults)"
   ]
  }
 ],
 "metadata": {
  "kernelspec": {
   "display_name": "R",
   "language": "R",
   "name": "ir"
  },
  "language_info": {
   "codemirror_mode": "r",
   "file_extension": ".r",
   "mimetype": "text/x-r-source",
   "name": "R",
   "pygments_lexer": "r",
   "version": "4.1.3"
  }
 },
 "nbformat": 4,
 "nbformat_minor": 5
}
