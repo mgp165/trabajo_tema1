{
 "cells": [
  {
   "cell_type": "markdown",
   "id": "d566b60d",
   "metadata": {},
   "source": [
    "# Hotel Reservations EDA\n",
    "### Manuel García Plaza, José Miguel Ramírez Muñoz"
   ]
  },
  {
   "cell_type": "markdown",
   "id": "dd146118",
   "metadata": {},
   "source": [
    "Data from:\n",
    "https://www.kaggle.com/datasets/ahsan81/hotel-reservations-classification-dataset"
   ]
  },
  {
   "cell_type": "code",
   "execution_count": 43,
   "id": "78c2349c",
   "metadata": {
    "scrolled": true
   },
   "outputs": [
    {
     "name": "stderr",
     "output_type": "stream",
     "text": [
      "\u001b[1mRows: \u001b[22m\u001b[34m36275\u001b[39m \u001b[1mColumns: \u001b[22m\u001b[34m19\u001b[39m\n",
      "\u001b[36m--\u001b[39m \u001b[1mColumn specification\u001b[22m \u001b[36m------------------------------------------------------------------------------------------------\u001b[39m\n",
      "\u001b[1mDelimiter:\u001b[22m \",\"\n",
      "\u001b[31mchr\u001b[39m  (5): Booking_ID, type_of_meal_plan, room_type_reserved, market_segment_...\n",
      "\u001b[32mdbl\u001b[39m (14): no_of_adults, no_of_children, no_of_weekend_nights, no_of_week_nig...\n",
      "\n",
      "\u001b[36mi\u001b[39m Use `spec()` to retrieve the full column specification for this data.\n",
      "\u001b[36mi\u001b[39m Specify the column types or set `show_col_types = FALSE` to quiet this message.\n"
     ]
    }
   ],
   "source": [
    "ruta_csv = \"C:\\\\Users\\\\manug\\\\OneDrive\\\\Escritorio\\\\Mates\\\\CUARTO\\\\SEGUNDO CUATRI\\\\DATOS 2\\\\AAII_2022-main\\\\trabajo_tema1\\\\hotel_reservations.csv\"\n",
    "data = readr::read_csv(ruta_csv)"
   ]
  },
  {
   "cell_type": "markdown",
   "id": "01c0c880",
   "metadata": {},
   "source": [
    "The file contains the different attributes of customers' reservation details. Here is a little description of the variables:\n",
    "### Data dictionary:\n",
    "\n",
    "• **Booking_ID:** unique identifier of each booking\n",
    "\n",
    "• **no_of_adults:** Number of adults\n",
    "\n",
    "• **no_of_children:** Number of Children\n",
    "\n",
    "• **no_of_weekend_nights:** Number of weekend nights (Saturday or Sunday) the guest stayed or booked to stay at the hotel\n",
    "\n",
    "• **no_of_week_nights:** Number of week nights (Monday to Friday) the guest stayed or booked to stay at the hotel\n",
    "\n",
    "• **type_of_meal_plan:** Type of meal plan booked by the customer:\n",
    "\n",
    "• **required_car_parking_space:** Does the customer require a car parking space? (0 - No, 1- Yes)\n",
    "\n",
    "• **room_type_reserved:** Type of room reserved by the customer. The values are ciphered (encoded) by INN Hotels.\n",
    "\n",
    "• **lead_time:** Number of days between the date of booking and the arrival date\n",
    "\n",
    "• **arrival_year:** Year of arrival date\n",
    "\n",
    "• **arrival_month:** Month of arrival date\n",
    "\n",
    "• **arrival_date:** Date of the month\n",
    "\n",
    "• **market_segment_type:** Market segment designation.\n",
    "\n",
    "• **repeated_guest:** Is the customer a repeated guest? (0 - No, 1- Yes)\n",
    "\n",
    "• **no_of_previous_cancellations:** Number of previous bookings that were canceled by the customer prior to the current booking\n",
    "\n",
    "• **no_of_previous_bookings_not_canceled:** Number of previous bookings not canceled by the customer prior to the current booking\n",
    "\n",
    "• **avg_price_per_room:** Average price per day of the reservation; prices of the rooms are dynamic. (in euros)\n",
    "\n",
    "• **no_of_special_requests:** Total number of special requests made by the customer (e.g. high floor, view from the room, etc)\n",
    "\n",
    "• **booking_status:** Flag indicating if the booking was canceled or not."
   ]
  },
  {
   "cell_type": "code",
   "execution_count": 3,
   "id": "78d7b657",
   "metadata": {},
   "outputs": [
    {
     "data": {
      "text/html": [
       "<table class=\"dataframe\">\n",
       "<caption>A tibble: 6 × 19</caption>\n",
       "<thead>\n",
       "\t<tr><th scope=col>Booking_ID</th><th scope=col>no_of_adults</th><th scope=col>no_of_children</th><th scope=col>no_of_weekend_nights</th><th scope=col>no_of_week_nights</th><th scope=col>type_of_meal_plan</th><th scope=col>required_car_parking_space</th><th scope=col>room_type_reserved</th><th scope=col>lead_time</th><th scope=col>arrival_year</th><th scope=col>arrival_month</th><th scope=col>arrival_date</th><th scope=col>market_segment_type</th><th scope=col>repeated_guest</th><th scope=col>no_of_previous_cancellations</th><th scope=col>no_of_previous_bookings_not_canceled</th><th scope=col>avg_price_per_room</th><th scope=col>no_of_special_requests</th><th scope=col>booking_status</th></tr>\n",
       "\t<tr><th scope=col>&lt;chr&gt;</th><th scope=col>&lt;dbl&gt;</th><th scope=col>&lt;dbl&gt;</th><th scope=col>&lt;dbl&gt;</th><th scope=col>&lt;dbl&gt;</th><th scope=col>&lt;chr&gt;</th><th scope=col>&lt;dbl&gt;</th><th scope=col>&lt;chr&gt;</th><th scope=col>&lt;dbl&gt;</th><th scope=col>&lt;dbl&gt;</th><th scope=col>&lt;dbl&gt;</th><th scope=col>&lt;dbl&gt;</th><th scope=col>&lt;chr&gt;</th><th scope=col>&lt;dbl&gt;</th><th scope=col>&lt;dbl&gt;</th><th scope=col>&lt;dbl&gt;</th><th scope=col>&lt;dbl&gt;</th><th scope=col>&lt;dbl&gt;</th><th scope=col>&lt;chr&gt;</th></tr>\n",
       "</thead>\n",
       "<tbody>\n",
       "\t<tr><td>INN00001</td><td>2</td><td>0</td><td>1</td><td>2</td><td>Meal Plan 1 </td><td>0</td><td>Room_Type 1</td><td>224</td><td>2017</td><td>10</td><td> 2</td><td>Offline</td><td>0</td><td>0</td><td>0</td><td> 65.00</td><td>0</td><td>Not_Canceled</td></tr>\n",
       "\t<tr><td>INN00002</td><td>2</td><td>0</td><td>2</td><td>3</td><td>Not Selected</td><td>0</td><td>Room_Type 1</td><td>  5</td><td>2018</td><td>11</td><td> 6</td><td>Online </td><td>0</td><td>0</td><td>0</td><td>106.68</td><td>1</td><td>Not_Canceled</td></tr>\n",
       "\t<tr><td>INN00003</td><td>1</td><td>0</td><td>2</td><td>1</td><td>Meal Plan 1 </td><td>0</td><td>Room_Type 1</td><td>  1</td><td>2018</td><td> 2</td><td>28</td><td>Online </td><td>0</td><td>0</td><td>0</td><td> 60.00</td><td>0</td><td>Canceled    </td></tr>\n",
       "\t<tr><td>INN00004</td><td>2</td><td>0</td><td>0</td><td>2</td><td>Meal Plan 1 </td><td>0</td><td>Room_Type 1</td><td>211</td><td>2018</td><td> 5</td><td>20</td><td>Online </td><td>0</td><td>0</td><td>0</td><td>100.00</td><td>0</td><td>Canceled    </td></tr>\n",
       "\t<tr><td>INN00005</td><td>2</td><td>0</td><td>1</td><td>1</td><td>Not Selected</td><td>0</td><td>Room_Type 1</td><td> 48</td><td>2018</td><td> 4</td><td>11</td><td>Online </td><td>0</td><td>0</td><td>0</td><td> 94.50</td><td>0</td><td>Canceled    </td></tr>\n",
       "\t<tr><td>INN00006</td><td>2</td><td>0</td><td>0</td><td>2</td><td>Meal Plan 2 </td><td>0</td><td>Room_Type 1</td><td>346</td><td>2018</td><td> 9</td><td>13</td><td>Online </td><td>0</td><td>0</td><td>0</td><td>115.00</td><td>1</td><td>Canceled    </td></tr>\n",
       "</tbody>\n",
       "</table>\n"
      ],
      "text/latex": [
       "A tibble: 6 × 19\n",
       "\\begin{tabular}{lllllllllllllllllll}\n",
       " Booking\\_ID & no\\_of\\_adults & no\\_of\\_children & no\\_of\\_weekend\\_nights & no\\_of\\_week\\_nights & type\\_of\\_meal\\_plan & required\\_car\\_parking\\_space & room\\_type\\_reserved & lead\\_time & arrival\\_year & arrival\\_month & arrival\\_date & market\\_segment\\_type & repeated\\_guest & no\\_of\\_previous\\_cancellations & no\\_of\\_previous\\_bookings\\_not\\_canceled & avg\\_price\\_per\\_room & no\\_of\\_special\\_requests & booking\\_status\\\\\n",
       " <chr> & <dbl> & <dbl> & <dbl> & <dbl> & <chr> & <dbl> & <chr> & <dbl> & <dbl> & <dbl> & <dbl> & <chr> & <dbl> & <dbl> & <dbl> & <dbl> & <dbl> & <chr>\\\\\n",
       "\\hline\n",
       "\t INN00001 & 2 & 0 & 1 & 2 & Meal Plan 1  & 0 & Room\\_Type 1 & 224 & 2017 & 10 &  2 & Offline & 0 & 0 & 0 &  65.00 & 0 & Not\\_Canceled\\\\\n",
       "\t INN00002 & 2 & 0 & 2 & 3 & Not Selected & 0 & Room\\_Type 1 &   5 & 2018 & 11 &  6 & Online  & 0 & 0 & 0 & 106.68 & 1 & Not\\_Canceled\\\\\n",
       "\t INN00003 & 1 & 0 & 2 & 1 & Meal Plan 1  & 0 & Room\\_Type 1 &   1 & 2018 &  2 & 28 & Online  & 0 & 0 & 0 &  60.00 & 0 & Canceled    \\\\\n",
       "\t INN00004 & 2 & 0 & 0 & 2 & Meal Plan 1  & 0 & Room\\_Type 1 & 211 & 2018 &  5 & 20 & Online  & 0 & 0 & 0 & 100.00 & 0 & Canceled    \\\\\n",
       "\t INN00005 & 2 & 0 & 1 & 1 & Not Selected & 0 & Room\\_Type 1 &  48 & 2018 &  4 & 11 & Online  & 0 & 0 & 0 &  94.50 & 0 & Canceled    \\\\\n",
       "\t INN00006 & 2 & 0 & 0 & 2 & Meal Plan 2  & 0 & Room\\_Type 1 & 346 & 2018 &  9 & 13 & Online  & 0 & 0 & 0 & 115.00 & 1 & Canceled    \\\\\n",
       "\\end{tabular}\n"
      ],
      "text/markdown": [
       "\n",
       "A tibble: 6 × 19\n",
       "\n",
       "| Booking_ID &lt;chr&gt; | no_of_adults &lt;dbl&gt; | no_of_children &lt;dbl&gt; | no_of_weekend_nights &lt;dbl&gt; | no_of_week_nights &lt;dbl&gt; | type_of_meal_plan &lt;chr&gt; | required_car_parking_space &lt;dbl&gt; | room_type_reserved &lt;chr&gt; | lead_time &lt;dbl&gt; | arrival_year &lt;dbl&gt; | arrival_month &lt;dbl&gt; | arrival_date &lt;dbl&gt; | market_segment_type &lt;chr&gt; | repeated_guest &lt;dbl&gt; | no_of_previous_cancellations &lt;dbl&gt; | no_of_previous_bookings_not_canceled &lt;dbl&gt; | avg_price_per_room &lt;dbl&gt; | no_of_special_requests &lt;dbl&gt; | booking_status &lt;chr&gt; |\n",
       "|---|---|---|---|---|---|---|---|---|---|---|---|---|---|---|---|---|---|---|\n",
       "| INN00001 | 2 | 0 | 1 | 2 | Meal Plan 1  | 0 | Room_Type 1 | 224 | 2017 | 10 |  2 | Offline | 0 | 0 | 0 |  65.00 | 0 | Not_Canceled |\n",
       "| INN00002 | 2 | 0 | 2 | 3 | Not Selected | 0 | Room_Type 1 |   5 | 2018 | 11 |  6 | Online  | 0 | 0 | 0 | 106.68 | 1 | Not_Canceled |\n",
       "| INN00003 | 1 | 0 | 2 | 1 | Meal Plan 1  | 0 | Room_Type 1 |   1 | 2018 |  2 | 28 | Online  | 0 | 0 | 0 |  60.00 | 0 | Canceled     |\n",
       "| INN00004 | 2 | 0 | 0 | 2 | Meal Plan 1  | 0 | Room_Type 1 | 211 | 2018 |  5 | 20 | Online  | 0 | 0 | 0 | 100.00 | 0 | Canceled     |\n",
       "| INN00005 | 2 | 0 | 1 | 1 | Not Selected | 0 | Room_Type 1 |  48 | 2018 |  4 | 11 | Online  | 0 | 0 | 0 |  94.50 | 0 | Canceled     |\n",
       "| INN00006 | 2 | 0 | 0 | 2 | Meal Plan 2  | 0 | Room_Type 1 | 346 | 2018 |  9 | 13 | Online  | 0 | 0 | 0 | 115.00 | 1 | Canceled     |\n",
       "\n"
      ],
      "text/plain": [
       "  Booking_ID no_of_adults no_of_children no_of_weekend_nights no_of_week_nights\n",
       "1 INN00001   2            0              1                    2                \n",
       "2 INN00002   2            0              2                    3                \n",
       "3 INN00003   1            0              2                    1                \n",
       "4 INN00004   2            0              0                    2                \n",
       "5 INN00005   2            0              1                    1                \n",
       "6 INN00006   2            0              0                    2                \n",
       "  type_of_meal_plan required_car_parking_space room_type_reserved lead_time\n",
       "1 Meal Plan 1       0                          Room_Type 1        224      \n",
       "2 Not Selected      0                          Room_Type 1          5      \n",
       "3 Meal Plan 1       0                          Room_Type 1          1      \n",
       "4 Meal Plan 1       0                          Room_Type 1        211      \n",
       "5 Not Selected      0                          Room_Type 1         48      \n",
       "6 Meal Plan 2       0                          Room_Type 1        346      \n",
       "  arrival_year arrival_month arrival_date market_segment_type repeated_guest\n",
       "1 2017         10             2           Offline             0             \n",
       "2 2018         11             6           Online              0             \n",
       "3 2018          2            28           Online              0             \n",
       "4 2018          5            20           Online              0             \n",
       "5 2018          4            11           Online              0             \n",
       "6 2018          9            13           Online              0             \n",
       "  no_of_previous_cancellations no_of_previous_bookings_not_canceled\n",
       "1 0                            0                                   \n",
       "2 0                            0                                   \n",
       "3 0                            0                                   \n",
       "4 0                            0                                   \n",
       "5 0                            0                                   \n",
       "6 0                            0                                   \n",
       "  avg_price_per_room no_of_special_requests booking_status\n",
       "1  65.00             0                      Not_Canceled  \n",
       "2 106.68             1                      Not_Canceled  \n",
       "3  60.00             0                      Canceled      \n",
       "4 100.00             0                      Canceled      \n",
       "5  94.50             0                      Canceled      \n",
       "6 115.00             1                      Canceled      "
      ]
     },
     "metadata": {},
     "output_type": "display_data"
    }
   ],
   "source": [
    "head(data)"
   ]
  },
  {
   "cell_type": "code",
   "execution_count": 64,
   "id": "19f274dd",
   "metadata": {},
   "outputs": [
    {
     "name": "stdout",
     "output_type": "stream",
     "text": [
      "The dataset contains 36275 bookings and 18 variables "
     ]
    }
   ],
   "source": [
    "cat('The dataset contains', nrow(data), 'bookings and', ncol(data)-1, 'variables ')"
   ]
  },
  {
   "cell_type": "code",
   "execution_count": 69,
   "id": "0f299167",
   "metadata": {},
   "outputs": [
    {
     "data": {
      "text/html": [
       "<style>\n",
       ".dl-inline {width: auto; margin:0; padding: 0}\n",
       ".dl-inline>dt, .dl-inline>dd {float: none; width: auto; display: inline-block}\n",
       ".dl-inline>dt::after {content: \":\\0020\"; padding-right: .5ex}\n",
       ".dl-inline>dt:not(:first-of-type) {padding-left: .5ex}\n",
       "</style><dl class=dl-inline><dt>Booking_ID</dt><dd>'character'</dd><dt>no_of_adults</dt><dd>'numeric'</dd><dt>no_of_children</dt><dd>'numeric'</dd><dt>no_of_weekend_nights</dt><dd>'numeric'</dd><dt>no_of_week_nights</dt><dd>'numeric'</dd><dt>type_of_meal_plan</dt><dd>'character'</dd><dt>required_car_parking_space</dt><dd>'numeric'</dd><dt>room_type_reserved</dt><dd>'character'</dd><dt>lead_time</dt><dd>'numeric'</dd><dt>arrival_year</dt><dd>'numeric'</dd><dt>arrival_month</dt><dd>'numeric'</dd><dt>arrival_date</dt><dd>'numeric'</dd><dt>market_segment_type</dt><dd>'character'</dd><dt>repeated_guest</dt><dd>'numeric'</dd><dt>no_of_previous_cancellations</dt><dd>'numeric'</dd><dt>no_of_previous_bookings_not_canceled</dt><dd>'numeric'</dd><dt>avg_price_per_room</dt><dd>'numeric'</dd><dt>no_of_special_requests</dt><dd>'numeric'</dd><dt>booking_status</dt><dd>'character'</dd></dl>\n"
      ],
      "text/latex": [
       "\\begin{description*}\n",
       "\\item[Booking\\textbackslash{}\\_ID] 'character'\n",
       "\\item[no\\textbackslash{}\\_of\\textbackslash{}\\_adults] 'numeric'\n",
       "\\item[no\\textbackslash{}\\_of\\textbackslash{}\\_children] 'numeric'\n",
       "\\item[no\\textbackslash{}\\_of\\textbackslash{}\\_weekend\\textbackslash{}\\_nights] 'numeric'\n",
       "\\item[no\\textbackslash{}\\_of\\textbackslash{}\\_week\\textbackslash{}\\_nights] 'numeric'\n",
       "\\item[type\\textbackslash{}\\_of\\textbackslash{}\\_meal\\textbackslash{}\\_plan] 'character'\n",
       "\\item[required\\textbackslash{}\\_car\\textbackslash{}\\_parking\\textbackslash{}\\_space] 'numeric'\n",
       "\\item[room\\textbackslash{}\\_type\\textbackslash{}\\_reserved] 'character'\n",
       "\\item[lead\\textbackslash{}\\_time] 'numeric'\n",
       "\\item[arrival\\textbackslash{}\\_year] 'numeric'\n",
       "\\item[arrival\\textbackslash{}\\_month] 'numeric'\n",
       "\\item[arrival\\textbackslash{}\\_date] 'numeric'\n",
       "\\item[market\\textbackslash{}\\_segment\\textbackslash{}\\_type] 'character'\n",
       "\\item[repeated\\textbackslash{}\\_guest] 'numeric'\n",
       "\\item[no\\textbackslash{}\\_of\\textbackslash{}\\_previous\\textbackslash{}\\_cancellations] 'numeric'\n",
       "\\item[no\\textbackslash{}\\_of\\textbackslash{}\\_previous\\textbackslash{}\\_bookings\\textbackslash{}\\_not\\textbackslash{}\\_canceled] 'numeric'\n",
       "\\item[avg\\textbackslash{}\\_price\\textbackslash{}\\_per\\textbackslash{}\\_room] 'numeric'\n",
       "\\item[no\\textbackslash{}\\_of\\textbackslash{}\\_special\\textbackslash{}\\_requests] 'numeric'\n",
       "\\item[booking\\textbackslash{}\\_status] 'character'\n",
       "\\end{description*}\n"
      ],
      "text/markdown": [
       "Booking_ID\n",
       ":   'character'no_of_adults\n",
       ":   'numeric'no_of_children\n",
       ":   'numeric'no_of_weekend_nights\n",
       ":   'numeric'no_of_week_nights\n",
       ":   'numeric'type_of_meal_plan\n",
       ":   'character'required_car_parking_space\n",
       ":   'numeric'room_type_reserved\n",
       ":   'character'lead_time\n",
       ":   'numeric'arrival_year\n",
       ":   'numeric'arrival_month\n",
       ":   'numeric'arrival_date\n",
       ":   'numeric'market_segment_type\n",
       ":   'character'repeated_guest\n",
       ":   'numeric'no_of_previous_cancellations\n",
       ":   'numeric'no_of_previous_bookings_not_canceled\n",
       ":   'numeric'avg_price_per_room\n",
       ":   'numeric'no_of_special_requests\n",
       ":   'numeric'booking_status\n",
       ":   'character'\n",
       "\n"
      ],
      "text/plain": [
       "                          Booking_ID                         no_of_adults \n",
       "                         \"character\"                            \"numeric\" \n",
       "                      no_of_children                 no_of_weekend_nights \n",
       "                           \"numeric\"                            \"numeric\" \n",
       "                   no_of_week_nights                    type_of_meal_plan \n",
       "                           \"numeric\"                          \"character\" \n",
       "          required_car_parking_space                   room_type_reserved \n",
       "                           \"numeric\"                          \"character\" \n",
       "                           lead_time                         arrival_year \n",
       "                           \"numeric\"                            \"numeric\" \n",
       "                       arrival_month                         arrival_date \n",
       "                           \"numeric\"                            \"numeric\" \n",
       "                 market_segment_type                       repeated_guest \n",
       "                         \"character\"                            \"numeric\" \n",
       "        no_of_previous_cancellations no_of_previous_bookings_not_canceled \n",
       "                           \"numeric\"                            \"numeric\" \n",
       "                  avg_price_per_room               no_of_special_requests \n",
       "                           \"numeric\"                            \"numeric\" \n",
       "                      booking_status \n",
       "                         \"character\" "
      ]
     },
     "metadata": {},
     "output_type": "display_data"
    }
   ],
   "source": [
    "sapply(data, class)"
   ]
  },
  {
   "cell_type": "code",
   "execution_count": 68,
   "id": "94757802",
   "metadata": {},
   "outputs": [
    {
     "name": "stdout",
     "output_type": "stream",
     "text": [
      "Categorizing variables, we have 12 numerical variables and 6 categorical ones."
     ]
    }
   ],
   "source": [
    "cat('Categorizing variables, we have', sum(sapply(data, class) == 'numeric')-2, 'numerical variables and', sum(sapply(data, class) == 'character')+1, 'categorical ones.')"
   ]
  },
  {
   "cell_type": "code",
   "execution_count": 56,
   "id": "098cf3db",
   "metadata": {},
   "outputs": [
    {
     "data": {
      "text/html": [
       "0"
      ],
      "text/latex": [
       "0"
      ],
      "text/markdown": [
       "0"
      ],
      "text/plain": [
       "[1] 0"
      ]
     },
     "metadata": {},
     "output_type": "display_data"
    }
   ],
   "source": [
    "sum(is.na(data) == TRUE)"
   ]
  },
  {
   "cell_type": "markdown",
   "id": "f1be370d",
   "metadata": {},
   "source": [
    "So we don't have missing or NaN values."
   ]
  },
  {
   "cell_type": "code",
   "execution_count": 49,
   "id": "9992c704",
   "metadata": {
    "scrolled": true
   },
   "outputs": [
    {
     "data": {
      "text/plain": [
       "  Booking_ID         no_of_adults   no_of_children    no_of_weekend_nights\n",
       " Length:36275       Min.   :0.000   Min.   : 0.0000   Min.   :0.0000      \n",
       " Class :character   1st Qu.:2.000   1st Qu.: 0.0000   1st Qu.:0.0000      \n",
       " Mode  :character   Median :2.000   Median : 0.0000   Median :1.0000      \n",
       "                    Mean   :1.845   Mean   : 0.1053   Mean   :0.8107      \n",
       "                    3rd Qu.:2.000   3rd Qu.: 0.0000   3rd Qu.:2.0000      \n",
       "                    Max.   :4.000   Max.   :10.0000   Max.   :7.0000      \n",
       " no_of_week_nights type_of_meal_plan  required_car_parking_space\n",
       " Min.   : 0.000    Length:36275       Min.   :0.00000           \n",
       " 1st Qu.: 1.000    Class :character   1st Qu.:0.00000           \n",
       " Median : 2.000    Mode  :character   Median :0.00000           \n",
       " Mean   : 2.204                       Mean   :0.03099           \n",
       " 3rd Qu.: 3.000                       3rd Qu.:0.00000           \n",
       " Max.   :17.000                       Max.   :1.00000           \n",
       " room_type_reserved   lead_time       arrival_year  arrival_month   \n",
       " Length:36275       Min.   :  0.00   Min.   :2017   Min.   : 1.000  \n",
       " Class :character   1st Qu.: 17.00   1st Qu.:2018   1st Qu.: 5.000  \n",
       " Mode  :character   Median : 57.00   Median :2018   Median : 8.000  \n",
       "                    Mean   : 85.23   Mean   :2018   Mean   : 7.424  \n",
       "                    3rd Qu.:126.00   3rd Qu.:2018   3rd Qu.:10.000  \n",
       "                    Max.   :443.00   Max.   :2018   Max.   :12.000  \n",
       "  arrival_date  market_segment_type repeated_guest   \n",
       " Min.   : 1.0   Length:36275        Min.   :0.00000  \n",
       " 1st Qu.: 8.0   Class :character    1st Qu.:0.00000  \n",
       " Median :16.0   Mode  :character    Median :0.00000  \n",
       " Mean   :15.6                       Mean   :0.02564  \n",
       " 3rd Qu.:23.0                       3rd Qu.:0.00000  \n",
       " Max.   :31.0                       Max.   :1.00000  \n",
       " no_of_previous_cancellations no_of_previous_bookings_not_canceled\n",
       " Min.   : 0.00000             Min.   : 0.0000                     \n",
       " 1st Qu.: 0.00000             1st Qu.: 0.0000                     \n",
       " Median : 0.00000             Median : 0.0000                     \n",
       " Mean   : 0.02335             Mean   : 0.1534                     \n",
       " 3rd Qu.: 0.00000             3rd Qu.: 0.0000                     \n",
       " Max.   :13.00000             Max.   :58.0000                     \n",
       " avg_price_per_room no_of_special_requests booking_status    \n",
       " Min.   :  0.00     Min.   :0.0000         Length:36275      \n",
       " 1st Qu.: 80.30     1st Qu.:0.0000         Class :character  \n",
       " Median : 99.45     Median :0.0000         Mode  :character  \n",
       " Mean   :103.42     Mean   :0.6197                           \n",
       " 3rd Qu.:120.00     3rd Qu.:1.0000                           \n",
       " Max.   :540.00     Max.   :5.0000                           "
      ]
     },
     "metadata": {},
     "output_type": "display_data"
    }
   ],
   "source": [
    "summary(data)"
   ]
  },
  {
   "cell_type": "markdown",
   "id": "fa794392",
   "metadata": {},
   "source": [
    "Let's see which are the values of these categorical variables:"
   ]
  },
  {
   "cell_type": "code",
   "execution_count": 86,
   "id": "b7de54b2",
   "metadata": {},
   "outputs": [
    {
     "data": {
      "text/html": [
       "<style>\n",
       ".list-inline {list-style: none; margin:0; padding: 0}\n",
       ".list-inline>li {display: inline-block}\n",
       ".list-inline>li:not(:last-child)::after {content: \"\\00b7\"; padding: 0 .5ex}\n",
       "</style>\n",
       "<ol class=list-inline><li>'Meal Plan 1'</li><li>'Not Selected'</li><li>'Meal Plan 2'</li><li>'Meal Plan 3'</li></ol>\n"
      ],
      "text/latex": [
       "\\begin{enumerate*}\n",
       "\\item 'Meal Plan 1'\n",
       "\\item 'Not Selected'\n",
       "\\item 'Meal Plan 2'\n",
       "\\item 'Meal Plan 3'\n",
       "\\end{enumerate*}\n"
      ],
      "text/markdown": [
       "1. 'Meal Plan 1'\n",
       "2. 'Not Selected'\n",
       "3. 'Meal Plan 2'\n",
       "4. 'Meal Plan 3'\n",
       "\n",
       "\n"
      ],
      "text/plain": [
       "[1] \"Meal Plan 1\"  \"Not Selected\" \"Meal Plan 2\"  \"Meal Plan 3\" "
      ]
     },
     "metadata": {},
     "output_type": "display_data"
    },
    {
     "data": {
      "text/html": [
       "<style>\n",
       ".list-inline {list-style: none; margin:0; padding: 0}\n",
       ".list-inline>li {display: inline-block}\n",
       ".list-inline>li:not(:last-child)::after {content: \"\\00b7\"; padding: 0 .5ex}\n",
       "</style>\n",
       "<ol class=list-inline><li>'Room_Type 1'</li><li>'Room_Type 4'</li><li>'Room_Type 2'</li><li>'Room_Type 6'</li><li>'Room_Type 5'</li><li>'Room_Type 7'</li><li>'Room_Type 3'</li></ol>\n"
      ],
      "text/latex": [
       "\\begin{enumerate*}\n",
       "\\item 'Room\\_Type 1'\n",
       "\\item 'Room\\_Type 4'\n",
       "\\item 'Room\\_Type 2'\n",
       "\\item 'Room\\_Type 6'\n",
       "\\item 'Room\\_Type 5'\n",
       "\\item 'Room\\_Type 7'\n",
       "\\item 'Room\\_Type 3'\n",
       "\\end{enumerate*}\n"
      ],
      "text/markdown": [
       "1. 'Room_Type 1'\n",
       "2. 'Room_Type 4'\n",
       "3. 'Room_Type 2'\n",
       "4. 'Room_Type 6'\n",
       "5. 'Room_Type 5'\n",
       "6. 'Room_Type 7'\n",
       "7. 'Room_Type 3'\n",
       "\n",
       "\n"
      ],
      "text/plain": [
       "[1] \"Room_Type 1\" \"Room_Type 4\" \"Room_Type 2\" \"Room_Type 6\" \"Room_Type 5\"\n",
       "[6] \"Room_Type 7\" \"Room_Type 3\""
      ]
     },
     "metadata": {},
     "output_type": "display_data"
    },
    {
     "data": {
      "text/html": [
       "<style>\n",
       ".list-inline {list-style: none; margin:0; padding: 0}\n",
       ".list-inline>li {display: inline-block}\n",
       ".list-inline>li:not(:last-child)::after {content: \"\\00b7\"; padding: 0 .5ex}\n",
       "</style>\n",
       "<ol class=list-inline><li>'Offline'</li><li>'Online'</li><li>'Corporate'</li><li>'Aviation'</li><li>'Complementary'</li></ol>\n"
      ],
      "text/latex": [
       "\\begin{enumerate*}\n",
       "\\item 'Offline'\n",
       "\\item 'Online'\n",
       "\\item 'Corporate'\n",
       "\\item 'Aviation'\n",
       "\\item 'Complementary'\n",
       "\\end{enumerate*}\n"
      ],
      "text/markdown": [
       "1. 'Offline'\n",
       "2. 'Online'\n",
       "3. 'Corporate'\n",
       "4. 'Aviation'\n",
       "5. 'Complementary'\n",
       "\n",
       "\n"
      ],
      "text/plain": [
       "[1] \"Offline\"       \"Online\"        \"Corporate\"     \"Aviation\"     \n",
       "[5] \"Complementary\""
      ]
     },
     "metadata": {},
     "output_type": "display_data"
    },
    {
     "data": {
      "text/html": [
       "<style>\n",
       ".list-inline {list-style: none; margin:0; padding: 0}\n",
       ".list-inline>li {display: inline-block}\n",
       ".list-inline>li:not(:last-child)::after {content: \"\\00b7\"; padding: 0 .5ex}\n",
       "</style>\n",
       "<ol class=list-inline><li>'Not_Canceled'</li><li>'Canceled'</li></ol>\n"
      ],
      "text/latex": [
       "\\begin{enumerate*}\n",
       "\\item 'Not\\_Canceled'\n",
       "\\item 'Canceled'\n",
       "\\end{enumerate*}\n"
      ],
      "text/markdown": [
       "1. 'Not_Canceled'\n",
       "2. 'Canceled'\n",
       "\n",
       "\n"
      ],
      "text/plain": [
       "[1] \"Not_Canceled\" \"Canceled\"    "
      ]
     },
     "metadata": {},
     "output_type": "display_data"
    }
   ],
   "source": [
    "unique(data$type_of_meal_plan)\n",
    "unique(data$room_type_reserved)\n",
    "unique(data$market_segment_type)\n",
    "unique(data$booking_status)"
   ]
  },
  {
   "cell_type": "code",
   "execution_count": 54,
   "id": "c1a2af7e",
   "metadata": {},
   "outputs": [],
   "source": [
    "#hist(gapminder$no_of_previous_cancellations)"
   ]
  },
  {
   "cell_type": "code",
   "execution_count": 53,
   "id": "5972551d",
   "metadata": {},
   "outputs": [],
   "source": [
    "#gapminder$room_type_reserved;gapminder$avg_price_per_room"
   ]
  },
  {
   "cell_type": "code",
   "execution_count": 51,
   "id": "34dff7aa",
   "metadata": {},
   "outputs": [],
   "source": [
    "#sum(gapminder$room_type_reserved == 'Room_Type 1')/length(gapminder$Booking_ID)"
   ]
  },
  {
   "cell_type": "code",
   "execution_count": 50,
   "id": "e7c322c7",
   "metadata": {
    "scrolled": true
   },
   "outputs": [],
   "source": [
    "#hist(gapminder$arrival_month)"
   ]
  },
  {
   "cell_type": "code",
   "execution_count": 52,
   "id": "6c9f10af",
   "metadata": {},
   "outputs": [],
   "source": [
    "#cor(gapminder[c(2:5,7,9, 14:18)])"
   ]
  },
  {
   "cell_type": "code",
   "execution_count": 55,
   "id": "7692ac93",
   "metadata": {},
   "outputs": [
    {
     "data": {
      "text/html": [
       "0"
      ],
      "text/latex": [
       "0"
      ],
      "text/markdown": [
       "0"
      ],
      "text/plain": [
       "[1] 0"
      ]
     },
     "metadata": {},
     "output_type": "display_data"
    }
   ],
   "source": []
  },
  {
   "cell_type": "code",
   "execution_count": 14,
   "id": "6cbf0fa0",
   "metadata": {},
   "outputs": [
    {
     "data": {
      "image/png": "[encoded data removed]",
      "text/plain": [
       "plot without title"
      ]
     },
     "metadata": {
      "image/png": {
       "height": 420,
       "width": 420
      }
     },
     "output_type": "display_data"
    }
   ],
   "source": [
    "plot(gapminder$arrival_year, gapminder$avg_price_per_room)"
   ]
  },
  {
   "cell_type": "code",
   "execution_count": 22,
   "id": "945c14f7",
   "metadata": {},
   "outputs": [
    {
     "data": {
      "text/html": [
       "<style>\n",
       ".list-inline {list-style: none; margin:0; padding: 0}\n",
       ".list-inline>li {display: inline-block}\n",
       ".list-inline>li:not(:last-child)::after {content: \"\\00b7\"; padding: 0 .5ex}\n",
       "</style>\n",
       "<ol class=list-inline><li>1</li><li>2</li><li>3</li><li>4</li><li>5</li><li>6</li><li>7</li><li>8</li><li>9</li><li>10</li><li>11</li><li>12</li></ol>\n"
      ],
      "text/latex": [
       "\\begin{enumerate*}\n",
       "\\item 1\n",
       "\\item 2\n",
       "\\item 3\n",
       "\\item 4\n",
       "\\item 5\n",
       "\\item 6\n",
       "\\item 7\n",
       "\\item 8\n",
       "\\item 9\n",
       "\\item 10\n",
       "\\item 11\n",
       "\\item 12\n",
       "\\end{enumerate*}\n"
      ],
      "text/markdown": [
       "1. 1\n",
       "2. 2\n",
       "3. 3\n",
       "4. 4\n",
       "5. 5\n",
       "6. 6\n",
       "7. 7\n",
       "8. 8\n",
       "9. 9\n",
       "10. 10\n",
       "11. 11\n",
       "12. 12\n",
       "\n",
       "\n"
      ],
      "text/plain": [
       " [1]  1  2  3  4  5  6  7  8  9 10 11 12"
      ]
     },
     "metadata": {},
     "output_type": "display_data"
    }
   ],
   "source": [
    "sort(unique(gapminder$arrival_month))"
   ]
  },
  {
   "cell_type": "code",
   "execution_count": 23,
   "id": "412858ad",
   "metadata": {},
   "outputs": [
    {
     "data": {
      "text/html": [
       "<style>\n",
       ".list-inline {list-style: none; margin:0; padding: 0}\n",
       ".list-inline>li {display: inline-block}\n",
       ".list-inline>li:not(:last-child)::after {content: \"\\00b7\"; padding: 0 .5ex}\n",
       "</style>\n",
       "<ol class=list-inline><li>2017</li><li>2018</li></ol>\n"
      ],
      "text/latex": [
       "\\begin{enumerate*}\n",
       "\\item 2017\n",
       "\\item 2018\n",
       "\\end{enumerate*}\n"
      ],
      "text/markdown": [
       "1. 2017\n",
       "2. 2018\n",
       "\n",
       "\n"
      ],
      "text/plain": [
       "[1] 2017 2018"
      ]
     },
     "metadata": {},
     "output_type": "display_data"
    }
   ],
   "source": [
    "unique(gapminder$arrival_year)"
   ]
  },
  {
   "cell_type": "code",
   "execution_count": 36,
   "id": "d7787c9f",
   "metadata": {},
   "outputs": [
    {
     "data": {
      "image/png": "[encoded data removed]",
      "text/plain": [
       "plot without title"
      ]
     },
     "metadata": {
      "image/png": {
       "height": 420,
       "width": 420
      }
     },
     "output_type": "display_data"
    }
   ],
   "source": [
    "ggplot2::ggplot(data = gapminder) + \n",
    "  ggplot2::geom_point(ggplot2::aes(arrival_month, avg_price_per_room))\n",
    " # ggplot2::facet_grid(~vs)"
   ]
  }
 ],
 "metadata": {
  "kernelspec": {
   "display_name": "R",
   "language": "R",
   "name": "ir"
  },
  "language_info": {
   "codemirror_mode": "r",
   "file_extension": ".r",
   "mimetype": "text/x-r-source",
   "name": "R",
   "pygments_lexer": "r",
   "version": "4.1.3"
  }
 },
 "nbformat": 4,
 "nbformat_minor": 5
}
